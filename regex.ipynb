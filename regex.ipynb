{
 "cells": [
  {
   "cell_type": "code",
   "execution_count": 3,
   "metadata": {},
   "outputs": [],
   "source": [
    "import pandas as pd\n",
    "import re"
   ]
  },
  {
   "cell_type": "markdown",
   "metadata": {},
   "source": [
    "1. Write a function named is_vowel. It should accept a string as input and use a regular expression to determine if the passed string is a vowel. While not explicity mentioned in the lesson, you can treat the result of re.search as a boolean value that indicates whether or not the regular expression matches the given string."
   ]
  },
  {
   "cell_type": "code",
   "execution_count": 67,
   "metadata": {},
   "outputs": [],
   "source": [
    "# function checks to see if string is exclusively a vowel.  Not if all string is a vowel\n",
    "def is_vowel(string):\n",
    "    return re.findall((r'[aeiou]+'), string) == list(string.lower())"
   ]
  },
  {
   "cell_type": "code",
   "execution_count": 68,
   "metadata": {},
   "outputs": [
    {
     "data": {
      "text/plain": [
       "True"
      ]
     },
     "execution_count": 68,
     "metadata": {},
     "output_type": "execute_result"
    }
   ],
   "source": [
    "string = 'e'\n",
    "\n",
    "is_vowel(string)"
   ]
  },
  {
   "cell_type": "markdown",
   "metadata": {},
   "source": [
    "2. Write a function named is_valid_username that accepts a string as input. A valid username starts with a lowercase letter, and only consists of lowercase letters, numbers, or the _ character. It should also be no longer than 32 characters. The function should return either True or False depending on whether the passed string is a valid username."
   ]
  },
  {
   "cell_type": "code",
   "execution_count": 105,
   "metadata": {},
   "outputs": [],
   "source": [
    "string = 'noahmelngailis'"
   ]
  },
  {
   "cell_type": "code",
   "execution_count": 106,
   "metadata": {},
   "outputs": [],
   "source": [
    "def is_valid_username(string):\n",
    "    \"\"\"function checks for valid username by:\n",
    "        1. length less than 32 characters\n",
    "        2. first character is lower case\n",
    "        3. all characters letters, numbers or '-'\n",
    "    \"\"\"\n",
    "    if len(string) <= 32:\n",
    "        if string[0] == string[0].lower():\n",
    "            if re.findall(r'[^a-zA-Z\\d]', string) == []:\n",
    "                return True\n",
    "            else:\n",
    "                return False\n",
    "        else:\n",
    "            return False\n",
    "    else:\n",
    "        return False\n",
    "        "
   ]
  },
  {
   "cell_type": "code",
   "execution_count": 109,
   "metadata": {},
   "outputs": [
    {
     "data": {
      "text/plain": [
       "False"
      ]
     },
     "execution_count": 109,
     "metadata": {},
     "output_type": "execute_result"
    }
   ],
   "source": [
    "is_valid_username('aaaaaaaaaaaaaaaaaaaaaaaaaaaaaaaaa')"
   ]
  },
  {
   "cell_type": "markdown",
   "metadata": {},
   "source": [
    "3. Write a regular expression to capture phone numbers. It should match all of the following:\n",
    "\n",
    "> (210) 867 5309 \\\n",
    "> +1 210.867.5309 \\\n",
    "> 867-5309 \\\n",
    "> 210-867-5309 "
   ]
  },
  {
   "cell_type": "code",
   "execution_count": 154,
   "metadata": {},
   "outputs": [],
   "source": [
    "phone_n_1 = '(210) 867 5309'\n",
    "phone_n_2 = '+1 210.867.5309'\n",
    "phone_n_3 = '867-5309'\n",
    "phone_n_4 = '210-867-5309 '\n",
    "\n",
    "def capture_phone_no(phone_no):\n",
    "    \"\"\"this function loops through a list of phone number formats and returns a match for the correct format\"\"\"\n",
    "    first_re = r'((\\(\\d\\d\\d\\)\\s\\d\\d\\d\\s\\d\\d\\d\\d))'\n",
    "    second_re = r'(\\+1\\s\\d\\d\\d\\.\\d\\d\\d\\.\\d\\d\\d\\d)'\n",
    "    third_re = r'(\\d\\d\\d\\-\\d\\d\\d\\d)'\n",
    "    fourth_re = r'(ddd-ddd-dddd)'   \n",
    "    phone_n_types = [first_re, second_re, third_re, fourth_re]\n",
    "\n",
    "    i = 0\n",
    "    for l in phone_n_types:\n",
    "        match = re.search(l, phone_no)\n",
    "        if match == None:\n",
    "            continue\n",
    "            i += 1\n",
    "        else:\n",
    "            match = match[i]\n",
    "            return match\n",
    "    return \"Not valid format\""
   ]
  },
  {
   "cell_type": "markdown",
   "metadata": {},
   "source": [
    "4. Use regular expressions to convert the dates below to the standardized year-month-day format.\n",
    "> 02/04/19 \\\n",
    "> 02/05/19 \\\n",
    "> 02/06/19 \\\n",
    "> 02/07/19 \\\n",
    "> 02/08/19 \\\n",
    "> 02/09/19 \\\n",
    "> 02/10/19 "
   ]
  },
  {
   "cell_type": "code",
   "execution_count": 196,
   "metadata": {},
   "outputs": [],
   "source": [
    "list_dates = ['02/04/19',\n",
    "            '02/05/19',\n",
    "            '02/06/19',\n",
    "            '02/07/19',\n",
    "            '02/08/19',\n",
    "            '02/09/19',\n",
    "            '02/10/19']\n",
    "\n",
    "def proper_date(list_dates):\n",
    "    \"\"\"function takes in a list of dates and returns proper date format of year-month-day\"\"\"\n",
    "    date_re = r'(\\d\\d)\\/(\\d\\d)\\/(\\d\\d)'\n",
    "    series = pd.Series(list_dates)\n",
    "\n",
    "    extract = series.str.extract(date_re)\n",
    "\n",
    "\n",
    "    df = pd.DataFrame({'month': extract[0],\n",
    "                  'day': extract[1],\n",
    "                  'year': \"20\" + extract[2]})\n",
    "    \n",
    "    df['proper_date'] = df.year + \"-\" + df.month + \"-\" + df.day\n",
    "    return df.proper_date"
   ]
  },
  {
   "cell_type": "code",
   "execution_count": 197,
   "metadata": {},
   "outputs": [
    {
     "data": {
      "text/plain": [
       "0    2019-02-04\n",
       "1    2019-02-05\n",
       "2    2019-02-06\n",
       "3    2019-02-07\n",
       "4    2019-02-08\n",
       "5    2019-02-09\n",
       "6    2019-02-10\n",
       "Name: proper_date, dtype: object"
      ]
     },
     "execution_count": 197,
     "metadata": {},
     "output_type": "execute_result"
    }
   ],
   "source": [
    "proper_date(list_dates)"
   ]
  },
  {
   "cell_type": "markdown",
   "metadata": {},
   "source": [
    "5. Write a regex to extract the various parts of these logfile lines: \n",
    "\n",
    "> GET /api/v1/sales?page=86 [16/Apr/2019:193452+0000] HTTP/1.1 {200} 510348 \"python-requests/2.21.0\" 97.105.19.58\n",
    "> POST /users_accounts/file-upload [16/Apr/2019:193452+0000] HTTP/1.1 {201} 42 \"User-Agent: Mozilla/5.0 (X11; Fedora; Fedora; Linux x86_64) AppleWebKit/537.36 (KHTML, like Gecko) Chrome/73.0.3683.86 Safari/537.36\" 97.105.19.58\n",
    "> GET /api/v1/items?page=3 [16/Apr/2019:193453+0000] HTTP/1.1 {429} 3561 \"python-requests/2.21.0\" 97.105.19.58"
   ]
  },
  {
   "cell_type": "code",
   "execution_count": null,
   "metadata": {},
   "outputs": [],
   "source": []
  }
 ],
 "metadata": {
  "kernelspec": {
   "display_name": "Python 3",
   "language": "python",
   "name": "python3"
  },
  "language_info": {
   "codemirror_mode": {
    "name": "ipython",
    "version": 3
   },
   "file_extension": ".py",
   "mimetype": "text/x-python",
   "name": "python",
   "nbconvert_exporter": "python",
   "pygments_lexer": "ipython3",
   "version": "3.7.4"
  }
 },
 "nbformat": 4,
 "nbformat_minor": 2
}
